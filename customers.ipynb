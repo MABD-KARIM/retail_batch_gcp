{
  "cells": [
    {
      "attachments": {},
      "cell_type": "markdown",
      "metadata": {
        "colab_type": "text",
        "id": "view-in-github"
      },
      "source": [
        "<a href=\"https://colab.research.google.com/github/MABD-KARIM/retail_batch_gcp/blob/main/customers.ipynb\" target=\"_parent\"><img src=\"https://colab.research.google.com/assets/colab-badge.svg\" alt=\"Open In Colab\"/></a>"
      ]
    },
    {
      "cell_type": "code",
      "execution_count": null,
      "metadata": {
        "colab": {
          "base_uri": "https://localhost:8080/"
        },
        "id": "WO8Umhv6G0sW",
        "outputId": "5044bbca-dab8-40f9-ed52-b60fc4e4f991"
      },
      "outputs": [
        {
          "name": "stdout",
          "output_type": "stream",
          "text": [
            "Looking in indexes: https://pypi.org/simple, https://us-python.pkg.dev/colab-wheels/public/simple/\n",
            "Collecting faker\n",
            "  Downloading Faker-18.10.1-py3-none-any.whl (1.7 MB)\n",
            "\u001b[2K     \u001b[90m━━━━━━━━━━━━━━━━━━━━━━━━━━━━━━━━━━━━━━━━\u001b[0m \u001b[32m1.7/1.7 MB\u001b[0m \u001b[31m19.7 MB/s\u001b[0m eta \u001b[36m0:00:00\u001b[0m\n",
            "\u001b[?25hRequirement already satisfied: python-dateutil>=2.4 in /usr/local/lib/python3.10/dist-packages (from faker) (2.8.2)\n",
            "Requirement already satisfied: six>=1.5 in /usr/local/lib/python3.10/dist-packages (from python-dateutil>=2.4->faker) (1.16.0)\n",
            "Installing collected packages: faker\n",
            "Successfully installed faker-18.10.1\n"
          ]
        }
      ],
      "source": [
        "!pip install faker"
      ]
    },
    {
      "cell_type": "code",
      "execution_count": 1,
      "metadata": {
        "id": "BsizsTp2HL5-"
      },
      "outputs": [],
      "source": [
        "from faker import Faker\n",
        "fake=Faker()"
      ]
    },
    {
      "cell_type": "code",
      "execution_count": 2,
      "metadata": {
        "id": "wmH47zfVHk5a"
      },
      "outputs": [],
      "source": [
        "cities = [\"Paris\", \"Nantes\",\"Lyon\",\"Lille\",\"Marseille\",\"Bordeaux\",\"Toulouse\",\"Rennes\",\"Rouen\",\"Paris\",\"Paris\",\"Paris\",\"Lille\",\"Lille\",\"Lyon\",\"Lyon\",\"Paris\"]"
      ]
    },
    {
      "cell_type": "code",
      "execution_count": 3,
      "metadata": {
        "id": "Z8A6flhFFt8Q"
      },
      "outputs": [],
      "source": [
        "import csv\n",
        "from random import choice\n",
        "header = [\"CustId\",\"CustFirstName\",\"CustLastName\",\"CustCity\"]\n",
        "with open(\"customers.csv\", mode=\"w\") as file:\n",
        "  writer = csv.writer(file)\n",
        "  writer.writerow(header)\n",
        "  for id in range(1,101):\n",
        "    row=[]\n",
        "    row.append(id)\n",
        "    fname=fake.first_name()\n",
        "    row.append(fname)\n",
        "    lname=fake.last_name()\n",
        "    row.append(lname)\n",
        "    city = choice(cities)\n",
        "    row.append(city)\n",
        "    writer.writerow(row)\n",
        "\n"
      ]
    },
    {
      "cell_type": "code",
      "execution_count": 4,
      "metadata": {
        "colab": {
          "base_uri": "https://localhost:8080/",
          "height": 363
        },
        "id": "LOV9DeoOJpCg",
        "outputId": "855d07cc-b7b1-4072-9211-6f9d1381f9f8"
      },
      "outputs": [
        {
          "data": {
            "text/html": [
              "<div>\n",
              "<style scoped>\n",
              "    .dataframe tbody tr th:only-of-type {\n",
              "        vertical-align: middle;\n",
              "    }\n",
              "\n",
              "    .dataframe tbody tr th {\n",
              "        vertical-align: top;\n",
              "    }\n",
              "\n",
              "    .dataframe thead th {\n",
              "        text-align: right;\n",
              "    }\n",
              "</style>\n",
              "<table border=\"1\" class=\"dataframe\">\n",
              "  <thead>\n",
              "    <tr style=\"text-align: right;\">\n",
              "      <th></th>\n",
              "      <th>CustId</th>\n",
              "      <th>CustFirstName</th>\n",
              "      <th>CustLastName</th>\n",
              "      <th>CustCity</th>\n",
              "    </tr>\n",
              "  </thead>\n",
              "  <tbody>\n",
              "    <tr>\n",
              "      <th>0</th>\n",
              "      <td>1</td>\n",
              "      <td>Crystal</td>\n",
              "      <td>Green</td>\n",
              "      <td>Nantes</td>\n",
              "    </tr>\n",
              "    <tr>\n",
              "      <th>1</th>\n",
              "      <td>2</td>\n",
              "      <td>Kyle</td>\n",
              "      <td>Campbell</td>\n",
              "      <td>Marseille</td>\n",
              "    </tr>\n",
              "    <tr>\n",
              "      <th>2</th>\n",
              "      <td>3</td>\n",
              "      <td>Crystal</td>\n",
              "      <td>Johnson</td>\n",
              "      <td>Lyon</td>\n",
              "    </tr>\n",
              "    <tr>\n",
              "      <th>3</th>\n",
              "      <td>4</td>\n",
              "      <td>Angela</td>\n",
              "      <td>Gordon</td>\n",
              "      <td>Lille</td>\n",
              "    </tr>\n",
              "    <tr>\n",
              "      <th>4</th>\n",
              "      <td>5</td>\n",
              "      <td>Jamie</td>\n",
              "      <td>Strickland</td>\n",
              "      <td>Bordeaux</td>\n",
              "    </tr>\n",
              "    <tr>\n",
              "      <th>5</th>\n",
              "      <td>6</td>\n",
              "      <td>Jonathan</td>\n",
              "      <td>Montgomery</td>\n",
              "      <td>Paris</td>\n",
              "    </tr>\n",
              "    <tr>\n",
              "      <th>6</th>\n",
              "      <td>7</td>\n",
              "      <td>Christopher</td>\n",
              "      <td>Owens</td>\n",
              "      <td>Rennes</td>\n",
              "    </tr>\n",
              "    <tr>\n",
              "      <th>7</th>\n",
              "      <td>8</td>\n",
              "      <td>Amber</td>\n",
              "      <td>Ramirez</td>\n",
              "      <td>Nantes</td>\n",
              "    </tr>\n",
              "    <tr>\n",
              "      <th>8</th>\n",
              "      <td>9</td>\n",
              "      <td>Kayla</td>\n",
              "      <td>Jones</td>\n",
              "      <td>Nantes</td>\n",
              "    </tr>\n",
              "    <tr>\n",
              "      <th>9</th>\n",
              "      <td>10</td>\n",
              "      <td>Wayne</td>\n",
              "      <td>Owens</td>\n",
              "      <td>Rouen</td>\n",
              "    </tr>\n",
              "  </tbody>\n",
              "</table>\n",
              "</div>"
            ],
            "text/plain": [
              "   CustId CustFirstName CustLastName   CustCity\n",
              "0       1       Crystal        Green     Nantes\n",
              "1       2          Kyle     Campbell  Marseille\n",
              "2       3       Crystal      Johnson       Lyon\n",
              "3       4        Angela       Gordon      Lille\n",
              "4       5         Jamie   Strickland   Bordeaux\n",
              "5       6      Jonathan   Montgomery      Paris\n",
              "6       7   Christopher        Owens     Rennes\n",
              "7       8         Amber      Ramirez     Nantes\n",
              "8       9         Kayla        Jones     Nantes\n",
              "9      10         Wayne        Owens      Rouen"
            ]
          },
          "execution_count": 4,
          "metadata": {},
          "output_type": "execute_result"
        }
      ],
      "source": [
        "import pandas as pd\n",
        "\n",
        "df = pd.read_csv(\"customers.csv\")\n",
        "df.head(10)"
      ]
    },
    {
      "cell_type": "code",
      "execution_count": null,
      "metadata": {
        "id": "i2Ruy2kOJxQ4"
      },
      "outputs": [],
      "source": []
    }
  ],
  "metadata": {
    "colab": {
      "authorship_tag": "ABX9TyPPeDIdcaCICSx+ktk6fOCX",
      "include_colab_link": true,
      "provenance": []
    },
    "kernelspec": {
      "display_name": "Python 3",
      "name": "python3"
    },
    "language_info": {
      "codemirror_mode": {
        "name": "ipython",
        "version": 3
      },
      "file_extension": ".py",
      "mimetype": "text/x-python",
      "name": "python",
      "nbconvert_exporter": "python",
      "pygments_lexer": "ipython3",
      "version": "3.10.6"
    }
  },
  "nbformat": 4,
  "nbformat_minor": 0
}
